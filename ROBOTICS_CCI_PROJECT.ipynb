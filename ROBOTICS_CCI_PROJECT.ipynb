{
 "cells": [
  {
   "cell_type": "code",
   "execution_count": 2,
   "id": "335f6552",
   "metadata": {},
   "outputs": [
    {
     "name": "stdout",
     "output_type": "stream",
     "text": [
      "Requirement already satisfied: nltk in d:\\conda\\lib\\site-packages (3.7)\n",
      "Requirement already satisfied: regex>=2021.8.3 in d:\\conda\\lib\\site-packages (from nltk) (2022.7.9)\n",
      "Requirement already satisfied: joblib in d:\\conda\\lib\\site-packages (from nltk) (1.1.0)\n",
      "Requirement already satisfied: tqdm in d:\\conda\\lib\\site-packages (from nltk) (4.64.1)\n",
      "Requirement already satisfied: click in d:\\conda\\lib\\site-packages (from nltk) (8.0.4)\n",
      "Requirement already satisfied: colorama in d:\\conda\\lib\\site-packages (from click->nltk) (0.4.5)\n",
      "Note: you may need to restart the kernel to use updated packages.\n"
     ]
    }
   ],
   "source": [
    "pip install nltk"
   ]
  },
  {
   "cell_type": "code",
   "execution_count": 7,
   "id": "85cbfa5c",
   "metadata": {},
   "outputs": [],
   "source": [
    "import nltk"
   ]
  },
  {
   "cell_type": "code",
   "execution_count": 8,
   "id": "b94112c1",
   "metadata": {},
   "outputs": [
    {
     "name": "stdout",
     "output_type": "stream",
     "text": [
      "showing info https://raw.githubusercontent.com/nltk/nltk_data/gh-pages/index.xml\n"
     ]
    },
    {
     "data": {
      "text/plain": [
       "True"
      ]
     },
     "execution_count": 8,
     "metadata": {},
     "output_type": "execute_result"
    }
   ],
   "source": [
    "nltk.download()"
   ]
  },
  {
   "cell_type": "code",
   "execution_count": 9,
   "id": "0c555fac",
   "metadata": {},
   "outputs": [
    {
     "name": "stdout",
     "output_type": "stream",
     "text": [
      "showing info https://raw.githubusercontent.com/nltk/nltk_data/gh-pages/index.xml\n"
     ]
    },
    {
     "data": {
      "text/plain": [
       "True"
      ]
     },
     "execution_count": 9,
     "metadata": {},
     "output_type": "execute_result"
    }
   ],
   "source": [
    "nltk.download()"
   ]
  },
  {
   "cell_type": "code",
   "execution_count": 40,
   "id": "017736e5",
   "metadata": {},
   "outputs": [
    {
     "name": "stdout",
     "output_type": "stream",
     "text": [
      "forward\n",
      "move\n",
      "10\n"
     ]
    }
   ],
   "source": [
    "import nltk\n",
    "from nltk.corpus import stopwords\n",
    "from nltk.tokenize import word_tokenize, sent_tokenize\n",
    "stop_words = set(stopwords.words('english'))\n",
    "words_list_s = []\n",
    "check=0\n",
    "direction=\"\"\n",
    "command=\"\"\n",
    "distance = 0\n",
    "sentence = \"Brobot can you move forward by 10 metres please.\"\n",
    " \n",
    "token_sentence = sent_tokenize(sentence)\n",
    "\n",
    "\n",
    "\n",
    "for i in token_sentence:\n",
    "    \n",
    "    words_list = nltk.word_tokenize(i)\n",
    " \n",
    "    for w in words_list:\n",
    "        if w not in stop_words:\n",
    "            words_list_s.append(w)\n",
    " \n",
    "    tags = nltk.pos_tag(words_list_s)\n",
    "    #namedEnt = nltk.ne_chunk(tags)\n",
    "    #namedEnt.draw()\n",
    "    \n",
    "    for j in tags:\n",
    "        if(j[1]=='NNP' and (j[0]=='Brobot' or j[0]=='brobot')):\n",
    "            check = 1\n",
    "            break;\n",
    "            \n",
    "    if(check==1):\n",
    "        for j in tags:\n",
    "            if(j[1]=='CD'):\n",
    "                distance = int(j[0])\n",
    "            elif(j[1]=='NN'):\n",
    "                if(j[0]=='move'):\n",
    "                    command = 'move'\n",
    "                elif(j[0]=='turn'):\n",
    "                    command = 'turn'\n",
    "            elif(j[1]=='RB' or j[1]=='VBD' or j[1]=='WRB'):\n",
    "                direction = j[0]\n",
    "           \n",
    "    print(direction)\n",
    "    print(command)\n",
    "    print(distance)\n",
    "    #call to function to export values of distance,command,direction\n",
    "    #to arduino"
   ]
  },
  {
   "cell_type": "code",
   "execution_count": null,
   "id": "403b9d31",
   "metadata": {},
   "outputs": [],
   "source": []
  }
 ],
 "metadata": {
  "kernelspec": {
   "display_name": "Python 3 (ipykernel)",
   "language": "python",
   "name": "python3"
  },
  "language_info": {
   "codemirror_mode": {
    "name": "ipython",
    "version": 3
   },
   "file_extension": ".py",
   "mimetype": "text/x-python",
   "name": "python",
   "nbconvert_exporter": "python",
   "pygments_lexer": "ipython3",
   "version": "3.9.13"
  }
 },
 "nbformat": 4,
 "nbformat_minor": 5
}
